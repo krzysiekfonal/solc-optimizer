{
 "cells": [
  {
   "cell_type": "code",
   "execution_count": 4,
   "id": "initial_id",
   "metadata": {
    "collapsed": true,
    "ExecuteTime": {
     "end_time": "2024-09-03T20:04:58.795919Z",
     "start_time": "2024-09-03T20:04:58.793335Z"
    }
   },
   "outputs": [],
   "source": [
    "import re\n",
    "import subprocess"
   ]
  },
  {
   "cell_type": "code",
   "outputs": [],
   "source": [
    "yul_file = './data/remove_redundant_assignments_in_switch.yul'\n",
    "opt_step = 'r'"
   ],
   "metadata": {
    "collapsed": false,
    "ExecuteTime": {
     "end_time": "2024-09-03T20:04:59.426192Z",
     "start_time": "2024-09-03T20:04:59.422873Z"
    }
   },
   "id": "30e22cec272c2f1d",
   "execution_count": 5
  },
  {
   "cell_type": "code",
   "outputs": [],
   "source": [
    "def do_opt_step(yul_file, opt_step):\n",
    "    command = f\"./solc --strict-assembly --optimize --yul-optimizations '{opt_step}:' {yul_file}\"\n",
    "    out = subprocess.check_output(command, shell=True, text=True)\n",
    "    start_idx = out.index('Pretty printed source:') + 23\n",
    "    end_idx = out.index('\\n\\n\\nBinary')\n",
    "    return out[start_idx:end_idx]"
   ],
   "metadata": {
    "collapsed": false,
    "ExecuteTime": {
     "end_time": "2024-09-03T20:04:59.908347Z",
     "start_time": "2024-09-03T20:04:59.906202Z"
    }
   },
   "id": "b0bbf7fd7135a9ba",
   "execution_count": 6
  },
  {
   "cell_type": "code",
   "outputs": [
    {
     "name": "stdout",
     "output_type": "stream",
     "text": [
      "object \"object\" {\n",
      "    code {\n",
      "        {\n",
      "            let x := 0\n",
      "            switch mload(x)\n",
      "            case 0 { }\n",
      "            case 1 { }\n",
      "            default { invalid() }\n",
      "            mstore(1, 1)\n",
      "        }\n",
      "    }\n",
      "}\n"
     ]
    }
   ],
   "source": [
    "code = do_opt_step(yul_file, opt_step)\n",
    "print(code)"
   ],
   "metadata": {
    "collapsed": false,
    "ExecuteTime": {
     "end_time": "2024-09-03T20:05:00.399987Z",
     "start_time": "2024-09-03T20:05:00.381441Z"
    }
   },
   "id": "d8d7479347f7e638",
   "execution_count": 7
  },
  {
   "cell_type": "code",
   "outputs": [
    {
     "name": "stdout",
     "output_type": "stream",
     "text": [
      "5f518015601457600114600e57fe5b60018052005b50600e56\n",
      "5f518015600e57600114600e57fe5b00\n"
     ]
    },
    {
     "data": {
      "text/plain": "0.64"
     },
     "execution_count": 8,
     "metadata": {},
     "output_type": "execute_result"
    }
   ],
   "source": [
    "def score(yul_file, opt_steps):\n",
    "    command = f\"./solc --strict-assembly --bin --optimize --yul-optimizations '{opt_steps}:' {yul_file}\"\n",
    "    out = subprocess.check_output(command, shell=True, text=True)\n",
    "    start_idx = out.index('Binary representation:') + 23\n",
    "    res1 = out[start_idx:-1]\n",
    "    print(res1)\n",
    "    \n",
    "    command = f\"./solc --strict-assembly --bin --optimize {yul_file}\"\n",
    "    out = subprocess.check_output(command, shell=True, text=True)\n",
    "    start_idx = out.index('Binary representation:') + 23\n",
    "    res2 = out[start_idx:-1]\n",
    "    print(res2)\n",
    "    \n",
    "    return len(res2) / len(res1)\n",
    "    \n",
    "score(yul_file, \"rLT\")"
   ],
   "metadata": {
    "collapsed": false,
    "ExecuteTime": {
     "end_time": "2024-09-03T20:05:01.078765Z",
     "start_time": "2024-09-03T20:05:01.036410Z"
    }
   },
   "id": "a2566be0fa9218ba",
   "execution_count": 8
  },
  {
   "cell_type": "code",
   "outputs": [],
   "source": [],
   "metadata": {
    "collapsed": false
   },
   "id": "655d7923b3658444"
  }
 ],
 "metadata": {
  "kernelspec": {
   "display_name": "Python 3",
   "language": "python",
   "name": "python3"
  },
  "language_info": {
   "codemirror_mode": {
    "name": "ipython",
    "version": 2
   },
   "file_extension": ".py",
   "mimetype": "text/x-python",
   "name": "python",
   "nbconvert_exporter": "python",
   "pygments_lexer": "ipython2",
   "version": "2.7.6"
  }
 },
 "nbformat": 4,
 "nbformat_minor": 5
}
