{
 "cells": [
  {
   "cell_type": "code",
   "execution_count": 1,
   "id": "initial_id",
   "metadata": {
    "collapsed": true
   },
   "outputs": [],
   "source": [
    "import json\n",
    "\n",
    "from datasets import load_dataset\n",
    "import os\n",
    "import pathlib\n",
    "import re\n",
    "from subprocess import CalledProcessError\n",
    "\n",
    "from utils import run_command"
   ]
  },
  {
   "cell_type": "code",
   "execution_count": 2,
   "id": "5d5af0d1e771e745",
   "metadata": {
    "collapsed": false
   },
   "outputs": [
    {
     "data": {
      "application/vnd.jupyter.widget-view+json": {
       "model_id": "a498c8989a4c4bd2844b9514e0833a5c",
       "version_major": 2,
       "version_minor": 0
      },
      "text/plain": [
       "Resolving data files:   0%|          | 0/18 [00:00<?, ?it/s]"
      ]
     },
     "metadata": {},
     "output_type": "display_data"
    },
    {
     "data": {
      "application/vnd.jupyter.widget-view+json": {
       "model_id": "1ec4f091d26d4d33aeb4b6167143e24e",
       "version_major": 2,
       "version_minor": 0
      },
      "text/plain": [
       "Resolving data files:   0%|          | 0/18 [00:00<?, ?it/s]"
      ]
     },
     "metadata": {},
     "output_type": "display_data"
    }
   ],
   "source": [
    "dataset = load_dataset(\"ASSERT-KTH/DISL\", \"decomposed\")"
   ]
  },
  {
   "cell_type": "code",
   "execution_count": null,
   "id": "67432debbe637385",
   "metadata": {
    "collapsed": false
   },
   "outputs": [],
   "source": [
    "dataset"
   ]
  },
  {
   "cell_type": "code",
   "execution_count": null,
   "id": "3603fd8ce0687283",
   "metadata": {
    "collapsed": false
   },
   "outputs": [],
   "source": [
    "contracts = {}\n",
    "\n",
    "for row in dataset[\"train\"]:\n",
    "    v = row[\"compiler_version\"]\n",
    "    if row[\"language\"] == \"Solidity\" and v.startswith(\"v0.8\") and int(v.split('.')[2].split('+')[0]) >= 10:\n",
    "        row[\"parsed_version\"] = v.split('+')[0]\n",
    "        if row[\"contract_address\"] in contracts:\n",
    "            contracts[row[\"contract_address\"]].append(row)\n",
    "        else:\n",
    "            contracts[row[\"contract_address\"]] = [row]"
   ]
  },
  {
   "cell_type": "code",
   "execution_count": null,
   "id": "6ee2e0369e06e6b1",
   "metadata": {
    "collapsed": false
   },
   "outputs": [],
   "source": [
    "print(len(contracts.keys()))\n",
    "last_source = None\n"
   ]
  },
  {
   "cell_type": "code",
   "execution_count": null,
   "id": "3115caae5f2d8cda",
   "metadata": {
    "collapsed": false
   },
   "outputs": [],
   "source": [
    "def extract_yul_from_single_sol(contract) -> bool:\n",
    "    run_command('rm -rf ./cache/*')\n",
    "    solc = f\"./compilers/solc-{contract['parsed_version']}\"\n",
    "    sol_orig_path = contract['file_path'].replace(' ', '_')\n",
    "    node_modules = pathlib.Path().absolute() / \"node_modules\"\n",
    "    base_path = pathlib.Path().absolute() / \"cache\"\n",
    "    sol_path = base_path / (sol_orig_path[1:] if sol_orig_path.startswith(\"/\") else sol_orig_path)\n",
    "    yul_dir = pathlib.Path().absolute().parent / \"dataset\" / contract[\"contract_address\"]\n",
    "    if os.path.exists(yul_dir) and \"meta.info\" in os.listdir(yul_dir):\n",
    "        print(\"Already exists\")\n",
    "        return True\n",
    "    if os.path.exists(solc):\n",
    "        # [print(x[\"file_path\"]) for x in contract]\n",
    "        print(f'Contract name: {contract[\"contract_name\"]}')\n",
    "        print(contract[\"compiler_version\"])\n",
    "        print(\"Sol orig path\", sol_orig_path)\n",
    "        print(\"Sol final path\", sol_path)\n",
    "        print(\"Yul dir\", yul_dir)\n",
    "        os.makedirs(sol_path.parent, exist_ok=True)\n",
    "        with open(sol_path, \"w\") as f:\n",
    "            f.write(contract[\"source_code\"])\n",
    "        out = run_command(f\"{solc} --include-path {node_modules} --base-path {base_path}  --ir {sol_path}\")\n",
    "        # split outputs by IR: - separate yul sources\n",
    "        for yul_source in out.split(\"IR:\"):\n",
    "            # extract name for yul file based on top Object name\n",
    "            filename = None\n",
    "            match = re.search(r'object \"(.*)\"', yul_source)\n",
    "            if match:\n",
    "                filename = match.groups()[0]\n",
    "            \n",
    "            if not filename:\n",
    "                continue\n",
    "                 \n",
    "            # save yul into disk\n",
    "            yul_path = yul_dir / f\"{filename}.yul\"\n",
    "            os.makedirs(yul_dir, exist_ok=True)\n",
    "            with open(yul_path, \"w\") as f:\n",
    "                f.write(yul_source)\n",
    "            \n",
    "            # verify it compiles successfully\n",
    "            run_command(f\"solc --strict-assembly {yul_path}\")\n",
    "        \n",
    "        # save metadata to have them and confirm directory is completed\n",
    "        with (open(yul_dir / \"meta.info\", \"w\") as f):\n",
    "            _contract = contract.copy()\n",
    "            _contract.pop(\"source_code\")\n",
    "            json.dump(_contract, f)\n",
    "        \n",
    "        return True\n",
    "    else:\n",
    "        print(f\"Solc {contract['parsed_version']} not found\")\n",
    "    \n",
    "    return False"
   ]
  },
  {
   "cell_type": "code",
   "execution_count": null,
   "id": "10ca83149d286044",
   "metadata": {
    "collapsed": false
   },
   "outputs": [],
   "source": [
    "nr_of_multifile = 0\n",
    "for contract in contracts.values():\n",
    "    # TEMP skip if more than 1 file\n",
    "    #print(len(contract))\n",
    "    if len(contract) > 1:\n",
    "        # for x in contract:\n",
    "        #     print(x['contract_name'], x['file_path'], x['parsed_version'])\n",
    "        # break\n",
    "        nr_of_multifile += 1\n",
    "        continue\n",
    "        \n",
    "    try:\n",
    "        # extract_yul_from_single_sol(contract[0])\n",
    "        if contract[0]['contract_name'] == 'STAR':\n",
    "            print(contract[0]['contract_name'])\n",
    "            print(contract[0]['parsed_version'])\n",
    "            print(contract[0]['file_path'])\n",
    "            #print(contract[0]['source_code'])\n",
    "            print(contract[0][\"contract_address\"])\n",
    "            extract_yul_from_single_sol(contract[0])\n",
    "        else:\n",
    "            pass\n",
    "    except CalledProcessError:\n",
    "        print(f\"Solc error with contract {contract[0]['contract_name']} -> {contract[0]['contract_address']}\")\n",
    "    except Exception as e:\n",
    "        print(f\"Error with contract {contract[0]['contract_name']}: {e}\")\n",
    "    # if extract_yul_from_single_sol(contract[0]):\n",
    "    #     break"
   ]
  },
  {
   "cell_type": "code",
   "execution_count": null,
   "id": "24bd68feab371e79",
   "metadata": {
    "collapsed": false
   },
   "outputs": [],
   "source": [
    "nr_of_multifile"
   ]
  },
  {
   "cell_type": "code",
   "execution_count": null,
   "id": "394e822d0d44a53c",
   "metadata": {
    "collapsed": false
   },
   "outputs": [],
   "source": []
  }
 ],
 "metadata": {
  "kernelspec": {
   "display_name": "Python 3",
   "language": "python",
   "name": "python3"
  },
  "language_info": {
   "codemirror_mode": {
    "name": "ipython",
    "version": 3
   },
   "file_extension": ".py",
   "mimetype": "text/x-python",
   "name": "python",
   "nbconvert_exporter": "python",
   "pygments_lexer": "ipython3",
   "version": "3.11.8"
  }
 },
 "nbformat": 4,
 "nbformat_minor": 5
}
